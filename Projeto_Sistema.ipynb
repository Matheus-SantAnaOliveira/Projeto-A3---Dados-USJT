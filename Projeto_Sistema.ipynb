{
 "cells": [
  {
   "cell_type": "code",
   "execution_count": null,
   "id": "f6f6cbea-08e7-4d44-aa48-2daae01ae77f",
   "metadata": {},
   "outputs": [],
   "source": [
    "!pip install -r requirements.txt"
   ]
  },
  {
   "cell_type": "markdown",
   "id": "fbacf1d5-1c26-4ccf-a0ca-3279576b7e63",
   "metadata": {},
   "source": [
    "!python -m venv venv -- \n",
    "!.\\venv\\Scripts\\Activate.ps1\n",
    "\n",
    "#caso falhe a importação, rode os dois comando no powershell\n",
    "e depois rode: \n",
    "!pip install -r requirements.txt --upgrade --quiet\n"
   ]
  },
  {
   "cell_type": "code",
   "execution_count": null,
   "id": "12a5d6ba-696a-4e0b-a0b3-7d1aa74a0969",
   "metadata": {},
   "outputs": [],
   "source": [
    "### Chama o sistema\n",
    "import main\n",
    "main.main()"
   ]
  },
  {
   "cell_type": "markdown",
   "id": "2688a88a-2e1e-4223-a604-d8e04fb6deb2",
   "metadata": {},
   "source": [
    "###Pode ocorrer um \"bug\" no input, por conta do formato em que o Jupyter é feito, caso ele entenda que voce saiu daquela box, ele não exibe o input, infelizmente isso não é corrigivel, pois vai dar forma que o Jupyter e o Input do python e comunicam"
   ]
  }
 ],
 "metadata": {
  "kernelspec": {
   "display_name": "Python 3 (ipykernel)",
   "language": "python",
   "name": "python3"
  },
  "language_info": {
   "codemirror_mode": {
    "name": "ipython",
    "version": 3
   },
   "file_extension": ".py",
   "mimetype": "text/x-python",
   "name": "python",
   "nbconvert_exporter": "python",
   "pygments_lexer": "ipython3",
   "version": "3.13.0"
  }
 },
 "nbformat": 4,
 "nbformat_minor": 5
}
