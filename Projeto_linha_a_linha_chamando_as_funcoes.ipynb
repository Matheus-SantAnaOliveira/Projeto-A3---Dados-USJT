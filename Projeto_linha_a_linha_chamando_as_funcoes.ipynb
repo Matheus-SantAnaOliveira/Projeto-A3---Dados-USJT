{
 "cells": [
  {
   "cell_type": "code",
   "execution_count": null,
   "id": "51eaaef8-44d7-4d40-a40a-24613305681c",
   "metadata": {},
   "outputs": [],
   "source": [
    "!pip install -r requirements.txt --upgrade --quiet"
   ]
  },
  {
   "cell_type": "markdown",
   "id": "5c132154-3fa5-4ed4-88e1-440c36c97e6b",
   "metadata": {},
   "source": [
    "!python -m venv venv -- \n",
    "!.\\venv\\Scripts\\Activate.ps1\n",
    "\n",
    "#caso falhe a importação, rode os dois comando no powershell\n",
    "e dps rode: \n",
    "!pip install -r requirements.txt --upgrade --quiet\n",
    "\n"
   ]
  },
  {
   "cell_type": "code",
   "execution_count": null,
   "id": "cb630071-a0f3-4147-9924-9456a11ffb9b",
   "metadata": {},
   "outputs": [],
   "source": [
    "#Importações\n",
    "from IPython.display import clear_output\n",
    "from entregas import analise_entregas_estado, analise_entregas_por_data, analise_entregas_atrasadas, analise_status_entregas, analise_motivos_atrasos, analise_tempos_entrega\n",
    "from rotas import analise_top_distancias, analise_tempo_medio_viagem,analise_distribuicao_incidentes\n",
    "from custos import analise_custos\n",
    "from veiculos import analise_veiculos_disponiveis, analise_capacidade_total, analise_velocidade_media, analise_modelos\n",
    "from financeiro import analise_custos_operacionais, analise_gasto_medio_por_corrida\n",
    "from recebe_valor_alternativa import recebe_valor\n",
    "from demandas import analise_pico_sazonal, analise_real_vs_previsto, analise_demanda_produto\n",
    "from IPython.display import clear_output\n",
    "from dados import carregar_dados, carrega_dados_veiculos, carrega_dados_demandas, carrega_dados_financeiro\n",
    "import matplotlib.pyplot as plt\n",
    "import pandas as pd"
   ]
  },
  {
   "cell_type": "code",
   "execution_count": null,
   "id": "38478585-13a7-4dd4-ae12-7e393c5e7081",
   "metadata": {},
   "outputs": [],
   "source": [
    "#Carrega dataFrames\n",
    "df_entregas = carregar_dados()\n",
    "df_veiculos = carrega_dados_veiculos()\n",
    "df_demanda = carrega_dados_demandas()\n",
    "df_financeiro = carrega_dados_financeiro()"
   ]
  },
  {
   "cell_type": "code",
   "execution_count": null,
   "id": "add8fed1-50ee-45f7-b878-2bff35794f1b",
   "metadata": {},
   "outputs": [],
   "source": [
    "# Análise de entregas por destino\n",
    "analise_entregas_estado(df_entregas)"
   ]
  },
  {
   "cell_type": "markdown",
   "id": "1eb166e1-bde3-4f09-a361-f4fe71a8cf84",
   "metadata": {},
   "source": [
    "### Análise de Status das entregas (A caminho, Entregue, Atrasado)"
   ]
  },
  {
   "cell_type": "code",
   "execution_count": null,
   "id": "12f6fbeb-f488-48a5-837e-fb8edc582e7d",
   "metadata": {},
   "outputs": [],
   "source": [
    "analise_status_entregas(df_entregas)"
   ]
  },
  {
   "cell_type": "markdown",
   "id": "f5cf13ec-c165-4116-b53a-4bc169e0b022",
   "metadata": {},
   "source": [
    "## Quantidade de entregas P/ Data"
   ]
  },
  {
   "cell_type": "code",
   "execution_count": null,
   "id": "3c4d99c9-753d-44e0-a982-c22cb4669fd4",
   "metadata": {},
   "outputs": [],
   "source": [
    "analise_entregas_por_data(df_entregas)"
   ]
  },
  {
   "cell_type": "markdown",
   "id": "9d899572-0353-469f-9045-fefbcf6aa6ae",
   "metadata": {},
   "source": [
    "## Atrasadas x No prazo"
   ]
  },
  {
   "cell_type": "code",
   "execution_count": null,
   "id": "897ee9f5-c790-4c61-b83b-38c3a971cc63",
   "metadata": {},
   "outputs": [],
   "source": [
    "analise_entregas_atrasadas(df_entregas)"
   ]
  },
  {
   "cell_type": "code",
   "execution_count": null,
   "id": "e1de1c46-e581-46d0-b2d4-e1702f02a691",
   "metadata": {},
   "outputs": [],
   "source": [
    "analise_motivos_atrasos(df_entregas)"
   ]
  },
  {
   "cell_type": "code",
   "execution_count": null,
   "id": "38691302-44d4-4d39-ba36-73bbe223bebc",
   "metadata": {
    "scrolled": true
   },
   "outputs": [],
   "source": [
    "analise_tempos_entrega(df_entregas)"
   ]
  },
  {
   "cell_type": "markdown",
   "id": "47351938-3015-44d4-b998-669ea8071c15",
   "metadata": {},
   "source": [
    "# ANÁLISE DEMANDAS\n",
    "> Pico Sazonal\n",
    "\n",
    "> Análise Pedidos Reais vs Esperado\n",
    "\n",
    "> Análise Demanda de produto"
   ]
  },
  {
   "cell_type": "code",
   "execution_count": null,
   "id": "dc53a024-ac7d-4312-95fa-f51f3b657e35",
   "metadata": {},
   "outputs": [],
   "source": [
    "analise_pico_sazonal(df_demanda)"
   ]
  },
  {
   "cell_type": "code",
   "execution_count": null,
   "id": "388a0f6d-cab7-4cbc-8994-ce56c7b00237",
   "metadata": {},
   "outputs": [],
   "source": [
    "analise_real_vs_previsto(df_demanda)"
   ]
  },
  {
   "cell_type": "code",
   "execution_count": null,
   "id": "ad2b994f-b927-43e7-a795-3bc7a563e2c7",
   "metadata": {
    "scrolled": true
   },
   "outputs": [],
   "source": [
    "analise_demanda_produto(df_demanda)"
   ]
  },
  {
   "cell_type": "markdown",
   "id": "351446da-862b-4d5d-8a85-dc222a5e231d",
   "metadata": {},
   "source": [
    "# VEÍCULOS \n",
    "\n",
    "> Caminhões por Centro de Distribuição\n",
    "\n",
    "> Capacidade por Centro de Distribuição\n",
    "\n",
    "> Velocidade Média por Modelo de Caminhão\n",
    "\n",
    "> Distribuição de Modelos de Caminhões\n"
   ]
  },
  {
   "cell_type": "code",
   "execution_count": null,
   "id": "f712f96b-c0d4-4a50-8d1e-1c0ce82790f6",
   "metadata": {},
   "outputs": [],
   "source": [
    "analise_veiculos_disponiveis(df_veiculos)"
   ]
  },
  {
   "cell_type": "code",
   "execution_count": null,
   "id": "74a59ed8-8bad-4846-9157-cb277f5366ab",
   "metadata": {},
   "outputs": [],
   "source": [
    "analise_capacidade_total(df_veiculos)"
   ]
  },
  {
   "cell_type": "code",
   "execution_count": null,
   "id": "6a49ca63-5351-4639-8d65-8eaf98f93a03",
   "metadata": {},
   "outputs": [],
   "source": [
    "analise_velocidade_media(df_veiculos)"
   ]
  },
  {
   "cell_type": "code",
   "execution_count": null,
   "id": "d0dfb259-377e-4200-9507-ec4fe7cce658",
   "metadata": {},
   "outputs": [],
   "source": [
    "analise_modelos(df_veiculos)"
   ]
  },
  {
   "cell_type": "markdown",
   "id": "c1dbb839-1c3c-45c6-b991-b51e47e8f8f2",
   "metadata": {},
   "source": [
    "# Financeiro \n",
    "\n",
    "> Custo operacional médio por Centro de distribuição\n",
    "\n",
    "> Gasto médio Por centro de distribuição(Levando em conta tipo de caminhão utilizado) \n",
    "\n",
    "\n",
    "\n",
    "\n"
   ]
  },
  {
   "cell_type": "code",
   "execution_count": null,
   "id": "362d6bde-264a-4bc9-9f26-fa9e254808bb",
   "metadata": {},
   "outputs": [],
   "source": [
    "analise_custos_operacionais(df_financeiro)"
   ]
  },
  {
   "cell_type": "code",
   "execution_count": null,
   "id": "6702313a-3f1a-4250-8dc0-8d98965c3aaa",
   "metadata": {},
   "outputs": [],
   "source": [
    "analise_gasto_medio_por_corrida(df_entregas, df_financeiro, df_veiculos)"
   ]
  },
  {
   "cell_type": "code",
   "execution_count": null,
   "id": "50766e10-afb8-4245-9c09-e36fe13da9f3",
   "metadata": {},
   "outputs": [],
   "source": [
    "analise_custos(df_entregas)"
   ]
  },
  {
   "cell_type": "code",
   "execution_count": null,
   "id": "0d58321a-be2b-40f0-b861-3f632110f3bf",
   "metadata": {},
   "outputs": [],
   "source": []
  },
  {
   "cell_type": "code",
   "execution_count": null,
   "id": "e6e25cf9-426b-4f75-b8b9-a94272b035e9",
   "metadata": {},
   "outputs": [],
   "source": []
  }
 ],
 "metadata": {
  "kernelspec": {
   "display_name": "Python 3 (ipykernel)",
   "language": "python",
   "name": "python3"
  },
  "language_info": {
   "codemirror_mode": {
    "name": "ipython",
    "version": 3
   },
   "file_extension": ".py",
   "mimetype": "text/x-python",
   "name": "python",
   "nbconvert_exporter": "python",
   "pygments_lexer": "ipython3",
   "version": "3.13.0"
  }
 },
 "nbformat": 4,
 "nbformat_minor": 5
}
